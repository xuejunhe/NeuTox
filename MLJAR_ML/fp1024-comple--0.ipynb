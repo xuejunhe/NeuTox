{
 "cells": [
  {
   "cell_type": "code",
   "execution_count": 1,
   "metadata": {},
   "outputs": [],
   "source": [
    "import numpy as np\n",
    "import pandas as pd"
   ]
  },
  {
   "cell_type": "code",
   "execution_count": 2,
   "metadata": {},
   "outputs": [],
   "source": [
    "from sklearn.model_selection import train_test_split\n",
    "train  = pd.read_csv('fp1024_train.csv')\n",
    "val  = pd.read_csv('fp1024_valid.csv')\n",
    "test  = pd.read_csv('fp1024_test.csv')\n",
    "\n",
    "ncol_train = train.shape[1]-1\n",
    "x_train = train.iloc[:,0:ncol_train]\n",
    "y_train= train['active']\n",
    "\n",
    "ncol_val = val.shape[1]-1\n",
    "x_val = val.iloc[:,0:ncol_val]\n",
    "y_val= val['active']\n",
    "\n",
    "ncol_test = test.shape[1]-1\n",
    "x_test = test.iloc[:,0:ncol_test]\n",
    "y_test= test['active']"
   ]
  },
  {
   "cell_type": "code",
   "execution_count": 3,
   "metadata": {},
   "outputs": [],
   "source": [
    "from sklearn.preprocessing import MinMaxScaler\n",
    "sc = MinMaxScaler()\n",
    "x_train = sc.fit_transform(x_train)\n",
    "x_val =  sc.transform(x_val)\n",
    "x_test = sc.transform(x_test)"
   ]
  },
  {
   "cell_type": "code",
   "execution_count": 4,
   "metadata": {},
   "outputs": [
    {
     "name": "stdout",
     "output_type": "stream",
     "text": [
      "Linear algorithm was disabled.\n",
      "AutoML directory: AutoML_5\n",
      "The task is binary_classification with evaluation metric logloss\n",
      "AutoML will use algorithms: ['Decision Tree', 'Random Forest', 'Extra Trees', 'LightGBM', 'Xgboost', 'CatBoost', 'Neural Network', 'Nearest Neighbors']\n",
      "AutoML will stack models\n",
      "AutoML will ensemble available models\n",
      "AutoML steps: ['adjust_validation', 'simple_algorithms', 'default_algorithms', 'not_so_random', 'golden_features', 'insert_random_feature', 'features_selection', 'hill_climbing_1', 'hill_climbing_2', 'boost_on_errors', 'ensemble', 'stack', 'ensemble_stacked']\n",
      "* Step adjust_validation will try to check up to 1 model\n",
      "1_DecisionTree logloss 0.531133 trained in 1.24 seconds\n",
      "Adjust validation. Remove: 1_DecisionTree\n",
      "Validation strategy: 10-fold CV Shuffle,Stratify\n",
      "* Step simple_algorithms will try to check up to 3 models\n",
      "1_DecisionTree logloss 0.536345 trained in 8.62 seconds\n",
      "2_DecisionTree logloss 0.538133 trained in 8.82 seconds\n",
      "3_DecisionTree logloss 0.562108 trained in 8.67 seconds\n",
      "* Step default_algorithms will try to check up to 6 models\n",
      "4_Default_LightGBM not trained. Stop training after the first fold. Time needed to train on the first fold 2265.0 seconds. The time estimate for training on all folds is larger than total_time_limit.\n",
      "Skip not_so_random because of the time limit.\n",
      "Skip golden_features because of the time limit.\n",
      "Skip insert_random_feature because of the time limit.\n",
      "Skip features_selection because no parameters were generated.\n",
      "* Step hill_climbing_1 will try to check up to 3 models\n",
      "4_DecisionTree logloss 0.522857 trained in 9.79 seconds\n",
      "5_DecisionTree logloss 0.530976 trained in 8.07 seconds\n",
      "6_DecisionTree logloss 0.53946 trained in 9.82 seconds\n",
      "Skip hill_climbing_2 because no parameters were generated.\n",
      "* Step boost_on_errors will try to check up to 1 model\n",
      "4_DecisionTree_BoostOnErrors logloss 0.544923 trained in 9.63 seconds\n",
      "* Step ensemble will try to check up to 1 model\n",
      "Ensemble logloss 0.481762 trained in 0.67 seconds\n",
      "Skip stack because no parameters were generated.\n",
      "Skip ensemble_stacked because no parameters were generated.\n",
      "AutoML fit time: 2337.52 seconds\n",
      "AutoML best model: Ensemble\n"
     ]
    },
    {
     "data": {
      "text/html": [
       "<style>#sk-container-id-1 {color: black;background-color: white;}#sk-container-id-1 pre{padding: 0;}#sk-container-id-1 div.sk-toggleable {background-color: white;}#sk-container-id-1 label.sk-toggleable__label {cursor: pointer;display: block;width: 100%;margin-bottom: 0;padding: 0.3em;box-sizing: border-box;text-align: center;}#sk-container-id-1 label.sk-toggleable__label-arrow:before {content: \"▸\";float: left;margin-right: 0.25em;color: #696969;}#sk-container-id-1 label.sk-toggleable__label-arrow:hover:before {color: black;}#sk-container-id-1 div.sk-estimator:hover label.sk-toggleable__label-arrow:before {color: black;}#sk-container-id-1 div.sk-toggleable__content {max-height: 0;max-width: 0;overflow: hidden;text-align: left;background-color: #f0f8ff;}#sk-container-id-1 div.sk-toggleable__content pre {margin: 0.2em;color: black;border-radius: 0.25em;background-color: #f0f8ff;}#sk-container-id-1 input.sk-toggleable__control:checked~div.sk-toggleable__content {max-height: 200px;max-width: 100%;overflow: auto;}#sk-container-id-1 input.sk-toggleable__control:checked~label.sk-toggleable__label-arrow:before {content: \"▾\";}#sk-container-id-1 div.sk-estimator input.sk-toggleable__control:checked~label.sk-toggleable__label {background-color: #d4ebff;}#sk-container-id-1 div.sk-label input.sk-toggleable__control:checked~label.sk-toggleable__label {background-color: #d4ebff;}#sk-container-id-1 input.sk-hidden--visually {border: 0;clip: rect(1px 1px 1px 1px);clip: rect(1px, 1px, 1px, 1px);height: 1px;margin: -1px;overflow: hidden;padding: 0;position: absolute;width: 1px;}#sk-container-id-1 div.sk-estimator {font-family: monospace;background-color: #f0f8ff;border: 1px dotted black;border-radius: 0.25em;box-sizing: border-box;margin-bottom: 0.5em;}#sk-container-id-1 div.sk-estimator:hover {background-color: #d4ebff;}#sk-container-id-1 div.sk-parallel-item::after {content: \"\";width: 100%;border-bottom: 1px solid gray;flex-grow: 1;}#sk-container-id-1 div.sk-label:hover label.sk-toggleable__label {background-color: #d4ebff;}#sk-container-id-1 div.sk-serial::before {content: \"\";position: absolute;border-left: 1px solid gray;box-sizing: border-box;top: 0;bottom: 0;left: 50%;z-index: 0;}#sk-container-id-1 div.sk-serial {display: flex;flex-direction: column;align-items: center;background-color: white;padding-right: 0.2em;padding-left: 0.2em;position: relative;}#sk-container-id-1 div.sk-item {position: relative;z-index: 1;}#sk-container-id-1 div.sk-parallel {display: flex;align-items: stretch;justify-content: center;background-color: white;position: relative;}#sk-container-id-1 div.sk-item::before, #sk-container-id-1 div.sk-parallel-item::before {content: \"\";position: absolute;border-left: 1px solid gray;box-sizing: border-box;top: 0;bottom: 0;left: 50%;z-index: -1;}#sk-container-id-1 div.sk-parallel-item {display: flex;flex-direction: column;z-index: 1;position: relative;background-color: white;}#sk-container-id-1 div.sk-parallel-item:first-child::after {align-self: flex-end;width: 50%;}#sk-container-id-1 div.sk-parallel-item:last-child::after {align-self: flex-start;width: 50%;}#sk-container-id-1 div.sk-parallel-item:only-child::after {width: 0;}#sk-container-id-1 div.sk-dashed-wrapped {border: 1px dashed gray;margin: 0 0.4em 0.5em 0.4em;box-sizing: border-box;padding-bottom: 0.4em;background-color: white;}#sk-container-id-1 div.sk-label label {font-family: monospace;font-weight: bold;display: inline-block;line-height: 1.2em;}#sk-container-id-1 div.sk-label-container {text-align: center;}#sk-container-id-1 div.sk-container {/* jupyter's `normalize.less` sets `[hidden] { display: none; }` but bootstrap.min.css set `[hidden] { display: none !important; }` so we also need the `!important` here to be able to override the default hidden behavior on the sphinx rendered scikit-learn.org. See: https://github.com/scikit-learn/scikit-learn/issues/21755 */display: inline-block !important;position: relative;}#sk-container-id-1 div.sk-text-repr-fallback {display: none;}</style><div id=\"sk-container-id-1\" class=\"sk-top-container\"><div class=\"sk-text-repr-fallback\"><pre>AutoML(mode=&#x27;Compete&#x27;)</pre><b>In a Jupyter environment, please rerun this cell to show the HTML representation or trust the notebook. <br />On GitHub, the HTML representation is unable to render, please try loading this page with nbviewer.org.</b></div><div class=\"sk-container\" hidden><div class=\"sk-item\"><div class=\"sk-estimator sk-toggleable\"><input class=\"sk-toggleable__control sk-hidden--visually\" id=\"sk-estimator-id-1\" type=\"checkbox\" checked><label for=\"sk-estimator-id-1\" class=\"sk-toggleable__label sk-toggleable__label-arrow\">AutoML</label><div class=\"sk-toggleable__content\"><pre>AutoML(mode=&#x27;Compete&#x27;)</pre></div></div></div></div></div>"
      ],
      "text/plain": [
       "AutoML(mode='Compete')"
      ]
     },
     "execution_count": 4,
     "metadata": {},
     "output_type": "execute_result"
    }
   ],
   "source": [
    "from supervised.automl import AutoML\n",
    "automl = AutoML(mode=\"Compete\")\n",
    "automl.fit(x_train, y_train)"
   ]
  },
  {
   "cell_type": "code",
   "execution_count": 5,
   "metadata": {},
   "outputs": [
    {
     "name": "stdout",
     "output_type": "stream",
     "text": [
      "   prediction_0  prediction_1  label\n",
      "0      0.826541      0.173459      0\n",
      "1      0.151357      0.848643      1\n",
      "2      0.826541      0.173459      0\n",
      "3      0.180604      0.819396      1\n",
      "4      0.363951      0.636049      1\n",
      "Test accuracy: 0.8177339901477833\n"
     ]
    }
   ],
   "source": [
    "# compute the accuracy on test data\n",
    "from sklearn.metrics import accuracy_score\n",
    "predictions = automl.predict_all(x_test)\n",
    "print(predictions.head())\n",
    "print(\"Test accuracy:\", accuracy_score(y_test, predictions[\"label\"].astype(int)))"
   ]
  },
  {
   "cell_type": "code",
   "execution_count": 6,
   "metadata": {},
   "outputs": [
    {
     "name": "stdout",
     "output_type": "stream",
     "text": [
      "0.8845629686133696\n",
      "0.882902159113013\n"
     ]
    },
    {
     "data": {
      "image/png": "[encoded data removed]",
      "text/plain": [
       "<Figure size 432x288 with 1 Axes>"
      ]
     },
     "metadata": {
      "needs_background": "light"
     },
     "output_type": "display_data"
    }
   ],
   "source": [
    "y_pred1 = automl.predict_all(x_train) \n",
    "y_pred2 = automl.predict_all(x_test)\n",
    "from sklearn.metrics import roc_curve, roc_auc_score\n",
    "fpr1, tpr1, threshold1 = roc_curve(y_train, automl.predict_proba(x_train)[:, 1])\n",
    "fpr2, tpr2, threshold2 = roc_curve(y_test, automl.predict_proba(x_test)[:, 1])\n",
    "%matplotlib inline\n",
    "import matplotlib.pyplot as plt\n",
    "plt.plot(fpr1, tpr1, label=\"ROC Curve of train for mljar\")\n",
    "plt.plot(fpr2, tpr2, label=\"ROC Curve of test formljar\")\n",
    "auc1 = roc_auc_score(y_train, automl.predict_proba(x_train)[:, 1])\n",
    "auc2 = roc_auc_score(y_test, automl.predict_proba(x_test)[:, 1])\n",
    "print (auc1)\n",
    "print (auc2)"
   ]
  },
  {
   "cell_type": "code",
   "execution_count": null,
   "metadata": {},
   "outputs": [],
   "source": []
  }
 ],
 "metadata": {
  "kernelspec": {
   "display_name": "AutoML ",
   "language": "python",
   "name": "automl"
  },
  "language_info": {
   "codemirror_mode": {
    "name": "ipython",
    "version": 3
   },
   "file_extension": ".py",
   "mimetype": "text/x-python",
   "name": "python",
   "nbconvert_exporter": "python",
   "pygments_lexer": "ipython3",
   "version": "3.8.13"
  }
 },
 "nbformat": 4,
 "nbformat_minor": 4
}
