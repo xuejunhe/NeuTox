{
 "cells": [
  {
   "cell_type": "code",
   "execution_count": 3,
   "metadata": {},
   "outputs": [],
   "source": [
    "import numpy as np\n",
    "import pandas as pd"
   ]
  },
  {
   "cell_type": "code",
   "execution_count": 4,
   "metadata": {},
   "outputs": [],
   "source": [
    "from sklearn.model_selection import train_test_split\n",
    "train  = pd.read_csv('padel_train.csv')\n",
    "val  = pd.read_csv('padel_valid.csv')\n",
    "test  = pd.read_csv('padel_test.csv')\n",
    "\n",
    "ncol_train = train.shape[1]-1\n",
    "x_train = train.iloc[:,0:ncol_train]\n",
    "y_train= train['active']\n",
    "\n",
    "ncol_val = val.shape[1]-1\n",
    "x_val = val.iloc[:,0:ncol_val]\n",
    "y_val= val['active']\n",
    "\n",
    "ncol_test = test.shape[1]-1\n",
    "x_test = test.iloc[:,0:ncol_test]\n",
    "y_test= test['active']"
   ]
  },
  {
   "cell_type": "code",
   "execution_count": 5,
   "metadata": {},
   "outputs": [],
   "source": [
    "from sklearn.preprocessing import MinMaxScaler\n",
    "sc = MinMaxScaler()\n",
    "x_train = sc.fit_transform(x_train)\n",
    "x_val =  sc.transform(x_val)\n",
    "x_test = sc.transform(x_test)"
   ]
  },
  {
   "cell_type": "code",
   "execution_count": 6,
   "metadata": {},
   "outputs": [
    {
     "name": "stdout",
     "output_type": "stream",
     "text": [
      "AutoML directory: AutoML_3\n",
      "The task is binary_classification with evaluation metric logloss\n",
      "AutoML will use algorithms: ['Decision Tree', 'Linear', 'Random Forest', 'Extra Trees', 'LightGBM', 'Xgboost', 'CatBoost', 'Neural Network', 'Nearest Neighbors']\n",
      "AutoML will stack models\n",
      "AutoML will ensemble available models\n",
      "AutoML steps: ['adjust_validation', 'simple_algorithms', 'default_algorithms', 'not_so_random', 'golden_features', 'insert_random_feature', 'features_selection', 'hill_climbing_1', 'hill_climbing_2', 'boost_on_errors', 'ensemble', 'stack', 'ensemble_stacked']\n",
      "* Step adjust_validation will try to check up to 1 model\n",
      "1_DecisionTree logloss 0.512406 trained in 0.81 seconds\n",
      "Adjust validation. Remove: 1_DecisionTree\n",
      "Validation strategy: 10-fold CV Shuffle,Stratify\n",
      "* Step simple_algorithms will try to check up to 4 models\n",
      "1_DecisionTree logloss 0.401806 trained in 4.48 seconds\n",
      "2_DecisionTree logloss 0.518322 trained in 5.79 seconds\n",
      "3_DecisionTree logloss 0.549039 trained in 7.25 seconds\n",
      "4_Linear logloss 0.430414 trained in 14.12 seconds\n",
      "* Step default_algorithms will try to check up to 6 models\n",
      "5_Default_LightGBM not trained. Stop training after the first fold. Time needed to train on the first fold 1503.0 seconds. The time estimate for training on all folds is larger than total_time_limit.\n",
      "* Step not_so_random will try to check up to 54 models\n",
      "14_LightGBM not trained. Stop training after the first fold. Time needed to train on the first fold 473.0 seconds. The time estimate for training on all folds is larger than total_time_limit.\n",
      "* Step golden_features will try to check up to 3 models\n",
      "None 67\n",
      "Add Golden Feature: feature_390_ratio_feature_681\n",
      "Add Golden Feature: feature_675_multiply_feature_578\n",
      "Add Golden Feature: feature_675_ratio_feature_681\n",
      "Add Golden Feature: feature_376_ratio_feature_675\n",
      "Add Golden Feature: feature_642_sum_feature_619\n",
      "Add Golden Feature: feature_655_sum_feature_619\n",
      "Add Golden Feature: feature_675_multiply_feature_619\n",
      "Add Golden Feature: feature_675_multiply_feature_574\n",
      "Add Golden Feature: feature_677_multiply_feature_390\n",
      "Add Golden Feature: feature_675_multiply_feature_559\n",
      "Add Golden Feature: feature_675_ratio_feature_382\n",
      "Add Golden Feature: feature_675_ratio_feature_376\n",
      "Add Golden Feature: feature_675_ratio_feature_375\n",
      "Add Golden Feature: feature_676_ratio_feature_675\n",
      "Add Golden Feature: feature_680_multiply_feature_345\n",
      "Add Golden Feature: feature_675_multiply_feature_575\n",
      "Add Golden Feature: feature_675_ratio_feature_381\n",
      "Add Golden Feature: feature_375_ratio_feature_675\n",
      "Add Golden Feature: feature_681_ratio_feature_675\n",
      "Add Golden Feature: feature_677_multiply_feature_391\n",
      "Add Golden Feature: feature_675_multiply_feature_318\n",
      "Add Golden Feature: feature_675_multiply_feature_319\n",
      "Add Golden Feature: feature_675_multiply_feature_375\n",
      "Add Golden Feature: feature_677_multiply_feature_557\n",
      "Add Golden Feature: feature_675_multiply_feature_330\n",
      "Add Golden Feature: feature_675_multiply_feature_123\n",
      "Add Golden Feature: feature_675_multiply_feature_101\n",
      "Add Golden Feature: feature_675_multiply_feature_548\n",
      "Add Golden Feature: feature_675_multiply_feature_223\n",
      "Add Golden Feature: feature_675_ratio_feature_218\n",
      "Add Golden Feature: feature_675_multiply_feature_558\n",
      "Add Golden Feature: feature_675_multiply_feature_585\n",
      "Add Golden Feature: feature_675_sum_feature_632\n",
      "Add Golden Feature: feature_680_multiply_feature_346\n",
      "Add Golden Feature: feature_675_multiply_feature_485\n",
      "Add Golden Feature: feature_675_multiply_feature_175\n",
      "Add Golden Feature: feature_675_multiply_feature_200\n",
      "Add Golden Feature: feature_675_multiply_feature_389\n",
      "Add Golden Feature: feature_675_multiply_feature_205\n",
      "Add Golden Feature: feature_390_ratio_feature_595\n",
      "Add Golden Feature: feature_675_multiply_feature_97\n",
      "Add Golden Feature: feature_391_ratio_feature_681\n",
      "Add Golden Feature: feature_675_ratio_feature_175\n",
      "Add Golden Feature: feature_390_sum_feature_12\n",
      "Add Golden Feature: feature_675_ratio_feature_98\n",
      "Add Golden Feature: feature_675_multiply_feature_124\n",
      "Add Golden Feature: feature_675_ratio_feature_548\n",
      "Add Golden Feature: feature_675_multiply_feature_164\n",
      "Add Golden Feature: feature_675_multiply_feature_393\n",
      "Add Golden Feature: feature_675_ratio_feature_383\n",
      "Add Golden Feature: feature_675_multiply_feature_286\n",
      "Add Golden Feature: feature_675_ratio_feature_186\n",
      "Add Golden Feature: feature_675_multiply_feature_323\n",
      "Add Golden Feature: feature_675_ratio_feature_54\n",
      "Add Golden Feature: feature_675_multiply_feature_139\n",
      "Add Golden Feature: feature_675_multiply_feature_341\n",
      "Add Golden Feature: feature_675_multiply_feature_134\n",
      "Add Golden Feature: feature_675_ratio_feature_551\n",
      "Add Golden Feature: feature_619_sum_feature_410\n",
      "Add Golden Feature: feature_675_ratio_feature_541\n",
      "Add Golden Feature: feature_675_ratio_feature_81\n",
      "Add Golden Feature: feature_675_multiply_feature_674\n",
      "Add Golden Feature: feature_675_ratio_feature_331\n",
      "Add Golden Feature: feature_675_multiply_feature_121\n",
      "Add Golden Feature: feature_675_ratio_feature_183\n",
      "Add Golden Feature: feature_390_multiply_feature_39\n",
      "Add Golden Feature: feature_675_multiply_feature_306\n",
      "Created 67 Golden Features in 246.03 seconds.\n",
      "1_DecisionTree_GoldenFeatures logloss 0.427041 trained in 254.22 seconds\n",
      "Skip insert_random_feature because of the time limit.\n",
      "Skip features_selection because no parameters were generated.\n",
      "* Step hill_climbing_1 will try to check up to 3 models\n",
      "5_DecisionTree logloss 0.359444 trained in 7.46 seconds\n",
      "6_DecisionTree_GoldenFeatures logloss 0.406963 trained in 8.88 seconds\n",
      "7_DecisionTree logloss 0.502461 trained in 8.36 seconds\n",
      "Skip hill_climbing_2 because no parameters were generated.\n",
      "* Step boost_on_errors will try to check up to 1 model\n",
      "5_DecisionTree_BoostOnErrors logloss 0.367005 trained in 7.79 seconds\n",
      "* Step ensemble will try to check up to 1 model\n",
      "Ensemble logloss 0.323679 trained in 0.74 seconds\n",
      "Skip stack because no parameters were generated.\n",
      "Skip ensemble_stacked because no parameters were generated.\n",
      "AutoML fit time: 2304.26 seconds\n",
      "AutoML best model: Ensemble\n"
     ]
    },
    {
     "data": {
      "text/html": [
       "<style>#sk-container-id-1 {color: black;background-color: white;}#sk-container-id-1 pre{padding: 0;}#sk-container-id-1 div.sk-toggleable {background-color: white;}#sk-container-id-1 label.sk-toggleable__label {cursor: pointer;display: block;width: 100%;margin-bottom: 0;padding: 0.3em;box-sizing: border-box;text-align: center;}#sk-container-id-1 label.sk-toggleable__label-arrow:before {content: \"▸\";float: left;margin-right: 0.25em;color: #696969;}#sk-container-id-1 label.sk-toggleable__label-arrow:hover:before {color: black;}#sk-container-id-1 div.sk-estimator:hover label.sk-toggleable__label-arrow:before {color: black;}#sk-container-id-1 div.sk-toggleable__content {max-height: 0;max-width: 0;overflow: hidden;text-align: left;background-color: #f0f8ff;}#sk-container-id-1 div.sk-toggleable__content pre {margin: 0.2em;color: black;border-radius: 0.25em;background-color: #f0f8ff;}#sk-container-id-1 input.sk-toggleable__control:checked~div.sk-toggleable__content {max-height: 200px;max-width: 100%;overflow: auto;}#sk-container-id-1 input.sk-toggleable__control:checked~label.sk-toggleable__label-arrow:before {content: \"▾\";}#sk-container-id-1 div.sk-estimator input.sk-toggleable__control:checked~label.sk-toggleable__label {background-color: #d4ebff;}#sk-container-id-1 div.sk-label input.sk-toggleable__control:checked~label.sk-toggleable__label {background-color: #d4ebff;}#sk-container-id-1 input.sk-hidden--visually {border: 0;clip: rect(1px 1px 1px 1px);clip: rect(1px, 1px, 1px, 1px);height: 1px;margin: -1px;overflow: hidden;padding: 0;position: absolute;width: 1px;}#sk-container-id-1 div.sk-estimator {font-family: monospace;background-color: #f0f8ff;border: 1px dotted black;border-radius: 0.25em;box-sizing: border-box;margin-bottom: 0.5em;}#sk-container-id-1 div.sk-estimator:hover {background-color: #d4ebff;}#sk-container-id-1 div.sk-parallel-item::after {content: \"\";width: 100%;border-bottom: 1px solid gray;flex-grow: 1;}#sk-container-id-1 div.sk-label:hover label.sk-toggleable__label {background-color: #d4ebff;}#sk-container-id-1 div.sk-serial::before {content: \"\";position: absolute;border-left: 1px solid gray;box-sizing: border-box;top: 0;bottom: 0;left: 50%;z-index: 0;}#sk-container-id-1 div.sk-serial {display: flex;flex-direction: column;align-items: center;background-color: white;padding-right: 0.2em;padding-left: 0.2em;position: relative;}#sk-container-id-1 div.sk-item {position: relative;z-index: 1;}#sk-container-id-1 div.sk-parallel {display: flex;align-items: stretch;justify-content: center;background-color: white;position: relative;}#sk-container-id-1 div.sk-item::before, #sk-container-id-1 div.sk-parallel-item::before {content: \"\";position: absolute;border-left: 1px solid gray;box-sizing: border-box;top: 0;bottom: 0;left: 50%;z-index: -1;}#sk-container-id-1 div.sk-parallel-item {display: flex;flex-direction: column;z-index: 1;position: relative;background-color: white;}#sk-container-id-1 div.sk-parallel-item:first-child::after {align-self: flex-end;width: 50%;}#sk-container-id-1 div.sk-parallel-item:last-child::after {align-self: flex-start;width: 50%;}#sk-container-id-1 div.sk-parallel-item:only-child::after {width: 0;}#sk-container-id-1 div.sk-dashed-wrapped {border: 1px dashed gray;margin: 0 0.4em 0.5em 0.4em;box-sizing: border-box;padding-bottom: 0.4em;background-color: white;}#sk-container-id-1 div.sk-label label {font-family: monospace;font-weight: bold;display: inline-block;line-height: 1.2em;}#sk-container-id-1 div.sk-label-container {text-align: center;}#sk-container-id-1 div.sk-container {/* jupyter's `normalize.less` sets `[hidden] { display: none; }` but bootstrap.min.css set `[hidden] { display: none !important; }` so we also need the `!important` here to be able to override the default hidden behavior on the sphinx rendered scikit-learn.org. See: https://github.com/scikit-learn/scikit-learn/issues/21755 */display: inline-block !important;position: relative;}#sk-container-id-1 div.sk-text-repr-fallback {display: none;}</style><div id=\"sk-container-id-1\" class=\"sk-top-container\"><div class=\"sk-text-repr-fallback\"><pre>AutoML(mode=&#x27;Compete&#x27;)</pre><b>In a Jupyter environment, please rerun this cell to show the HTML representation or trust the notebook. <br />On GitHub, the HTML representation is unable to render, please try loading this page with nbviewer.org.</b></div><div class=\"sk-container\" hidden><div class=\"sk-item\"><div class=\"sk-estimator sk-toggleable\"><input class=\"sk-toggleable__control sk-hidden--visually\" id=\"sk-estimator-id-1\" type=\"checkbox\" checked><label for=\"sk-estimator-id-1\" class=\"sk-toggleable__label sk-toggleable__label-arrow\">AutoML</label><div class=\"sk-toggleable__content\"><pre>AutoML(mode=&#x27;Compete&#x27;)</pre></div></div></div></div></div>"
      ],
      "text/plain": [
       "AutoML(mode='Compete')"
      ]
     },
     "execution_count": 6,
     "metadata": {},
     "output_type": "execute_result"
    }
   ],
   "source": [
    "from supervised.automl import AutoML\n",
    "automl = AutoML(mode=\"Compete\")\n",
    "automl.fit(x_train, y_train)"
   ]
  },
  {
   "cell_type": "code",
   "execution_count": 7,
   "metadata": {},
   "outputs": [
    {
     "name": "stdout",
     "output_type": "stream",
     "text": [
      "   prediction_0  prediction_1  label\n",
      "0      0.964091      0.035909      0\n",
      "1      0.095015      0.904985      1\n",
      "2      0.674020      0.325980      0\n",
      "3      0.129073      0.870927      1\n",
      "4      0.089049      0.910951      1\n",
      "Test accuracy: 0.9064039408866995\n"
     ]
    }
   ],
   "source": [
    "# compute the accuracy on test data\n",
    "from sklearn.metrics import accuracy_score\n",
    "predictions = automl.predict_all(x_test)\n",
    "print(predictions.head())\n",
    "print(\"Test accuracy:\", accuracy_score(y_test, predictions[\"label\"].astype(int)))"
   ]
  },
  {
   "cell_type": "code",
   "execution_count": 8,
   "metadata": {},
   "outputs": [
    {
     "name": "stdout",
     "output_type": "stream",
     "text": [
      "0.9629822570342393\n",
      "0.9541917914802567\n"
     ]
    },
    {
     "data": {
      "image/png": "[encoded data removed]",
      "text/plain": [
       "<Figure size 432x288 with 1 Axes>"
      ]
     },
     "metadata": {
      "needs_background": "light"
     },
     "output_type": "display_data"
    }
   ],
   "source": [
    "y_pred1 = automl.predict_all(x_train) \n",
    "y_pred2 = automl.predict_all(x_test)\n",
    "from sklearn.metrics import roc_curve, roc_auc_score\n",
    "fpr1, tpr1, threshold1 = roc_curve(y_train, automl.predict_proba(x_train)[:, 1])\n",
    "fpr2, tpr2, threshold2 = roc_curve(y_test, automl.predict_proba(x_test)[:, 1])\n",
    "%matplotlib inline\n",
    "import matplotlib.pyplot as plt\n",
    "plt.plot(fpr1, tpr1, label=\"ROC Curve of train for mljar\")\n",
    "plt.plot(fpr2, tpr2, label=\"ROC Curve of test formljar\")\n",
    "auc1 = roc_auc_score(y_train, automl.predict_proba(x_train)[:, 1])\n",
    "auc2 = roc_auc_score(y_test, automl.predict_proba(x_test)[:, 1])\n",
    "print (auc1)\n",
    "print (auc2)"
   ]
  },
  {
   "cell_type": "code",
   "execution_count": null,
   "metadata": {},
   "outputs": [],
   "source": []
  },
  {
   "cell_type": "code",
   "execution_count": null,
   "metadata": {},
   "outputs": [],
   "source": []
  },
  {
   "cell_type": "code",
   "execution_count": null,
   "metadata": {},
   "outputs": [],
   "source": []
  },
  {
   "cell_type": "code",
   "execution_count": null,
   "metadata": {},
   "outputs": [],
   "source": []
  }
 ],
 "metadata": {
  "kernelspec": {
   "display_name": "AutoML ",
   "language": "python",
   "name": "automl"
  },
  "language_info": {
   "codemirror_mode": {
    "name": "ipython",
    "version": 3
   },
   "file_extension": ".py",
   "mimetype": "text/x-python",
   "name": "python",
   "nbconvert_exporter": "python",
   "pygments_lexer": "ipython3",
   "version": "3.8.13"
  }
 },
 "nbformat": 4,
 "nbformat_minor": 4
}
