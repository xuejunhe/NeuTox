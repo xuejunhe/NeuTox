{
 "cells": [
  {
   "cell_type": "code",
   "execution_count": 3,
   "metadata": {},
   "outputs": [],
   "source": [
    "import numpy as np\n",
    "import pandas as pd"
   ]
  },
  {
   "cell_type": "code",
   "execution_count": 4,
   "metadata": {},
   "outputs": [],
   "source": [
    "from sklearn.model_selection import train_test_split\n",
    "train  = pd.read_csv('rdkit_train.csv')\n",
    "val  = pd.read_csv('rdkit_valid.csv')\n",
    "test  = pd.read_csv('rdkit_test.csv')\n",
    "\n",
    "ncol_train = train.shape[1]-1\n",
    "x_train = train.iloc[:,0:ncol_train]\n",
    "y_train= train['active']\n",
    "\n",
    "ncol_val = val.shape[1]-1\n",
    "x_val = val.iloc[:,0:ncol_val]\n",
    "y_val= val['active']\n",
    "\n",
    "ncol_test = test.shape[1]-1\n",
    "x_test = test.iloc[:,0:ncol_test]\n",
    "y_test= test['active']"
   ]
  },
  {
   "cell_type": "code",
   "execution_count": 5,
   "metadata": {},
   "outputs": [],
   "source": [
    "from sklearn.preprocessing import MinMaxScaler\n",
    "sc = MinMaxScaler()\n",
    "x_train = sc.fit_transform(x_train)\n",
    "x_val =  sc.transform(x_val)\n",
    "x_test = sc.transform(x_test)"
   ]
  },
  {
   "cell_type": "code",
   "execution_count": 6,
   "metadata": {},
   "outputs": [
    {
     "name": "stdout",
     "output_type": "stream",
     "text": [
      "AutoML directory: AutoML_4\n",
      "The task is binary_classification with evaluation metric logloss\n",
      "AutoML will use algorithms: ['Decision Tree', 'Linear', 'Random Forest', 'Extra Trees', 'LightGBM', 'Xgboost', 'CatBoost', 'Neural Network', 'Nearest Neighbors']\n",
      "AutoML will stack models\n",
      "AutoML will ensemble available models\n",
      "AutoML steps: ['adjust_validation', 'simple_algorithms', 'default_algorithms', 'not_so_random', 'golden_features', 'kmeans_features', 'insert_random_feature', 'features_selection', 'hill_climbing_1', 'hill_climbing_2', 'boost_on_errors', 'ensemble', 'stack', 'ensemble_stacked']\n",
      "* Step adjust_validation will try to check up to 1 model\n",
      "1_DecisionTree logloss 0.558852 trained in 0.63 seconds\n",
      "Adjust validation. Remove: 1_DecisionTree\n",
      "Validation strategy: 10-fold CV Shuffle,Stratify\n",
      "* Step simple_algorithms will try to check up to 4 models\n",
      "1_DecisionTree logloss 0.434967 trained in 2.11 seconds\n",
      "2_DecisionTree logloss 0.472829 trained in 2.39 seconds\n",
      "3_DecisionTree logloss 0.472543 trained in 2.35 seconds\n",
      "4_Linear logloss 0.408207 trained in 7.9 seconds\n",
      "* Step default_algorithms will try to check up to 6 models\n",
      "5_Default_LightGBM not trained. Stop training after the first fold. Time needed to train on the first fold 1401.0 seconds. The time estimate for training on all folds is larger than total_time_limit.\n",
      "* Step not_so_random will try to check up to 54 models\n",
      "14_LightGBM not trained. Stop training after the first fold. Time needed to train on the first fold 506.0 seconds. The time estimate for training on all folds is larger than total_time_limit.\n",
      "* Step golden_features will try to check up to 3 models\n",
      "None 14\n",
      "Add Golden Feature: feature_72_sum_feature_53\n",
      "Add Golden Feature: feature_100_sum_feature_53\n",
      "Add Golden Feature: feature_90_sum_feature_53\n",
      "Add Golden Feature: feature_137_sum_feature_53\n",
      "Add Golden Feature: feature_73_multiply_feature_2\n",
      "Add Golden Feature: feature_31_sum_feature_2\n",
      "Add Golden Feature: feature_53_sum_feature_51\n",
      "Add Golden Feature: feature_116_sum_feature_53\n",
      "Add Golden Feature: feature_81_sum_feature_53\n",
      "Add Golden Feature: feature_53_sum_feature_27\n",
      "Add Golden Feature: feature_85_sum_feature_53\n",
      "Add Golden Feature: feature_63_sum_feature_53\n",
      "Add Golden Feature: feature_32_diff_feature_53\n",
      "Add Golden Feature: feature_34_sum_feature_31\n",
      "Created 14 Golden Features in 19.73 seconds.\n",
      "4_Linear_GoldenFeatures logloss 0.407403 trained in 29.17 seconds\n",
      "* Step kmeans_features will try to check up to 3 models\n",
      "4_Linear_KMeansFeatures logloss 0.40556 trained in 60.51 seconds\n",
      "1_DecisionTree_KMeansFeatures logloss 0.436967 trained in 66.52 seconds\n",
      "* Step insert_random_feature will try to check up to 1 model\n",
      "4_Linear_KMeansFeatures_RandomFeature logloss 0.400322 trained in 93.68 seconds\n",
      "Drop features ['feature_80', 'feature_102', 'feature_144', 'feature_147', 'feature_116', 'feature_99', 'feature_58', 'feature_110', 'feature_44', 'feature_148', 'feature_117', 'feature_92', 'feature_76', 'feature_132', 'feature_74', 'feature_137', 'feature_83', 'feature_93', 'feature_8', 'feature_21', 'feature_109', 'feature_60', 'feature_10', 'feature_140', 'feature_91', 'feature_130', 'random_feature', 'feature_47', 'feature_3', 'feature_69', 'feature_42', 'feature_61', 'feature_126', 'feature_84', 'feature_37', 'feature_24', 'feature_54', 'feature_5', 'feature_7', 'feature_81', 'feature_14', 'feature_85', 'feature_118', 'feature_103', 'feature_64', 'feature_124', 'feature_19', 'feature_63', 'feature_128', 'feature_36', 'feature_111', 'feature_123', 'feature_97', 'feature_57', 'feature_18', 'feature_27', 'feature_35', 'feature_77', 'feature_39', 'feature_25', 'feature_65', 'feature_141', 'feature_71', 'feature_70', 'feature_122', 'feature_75', 'feature_119', 'feature_78', 'feature_59', 'feature_28', 'feature_142', 'feature_52', 'feature_17', 'feature_143', 'feature_107', 'feature_73', 'feature_115', 'feature_56', 'feature_55', 'feature_67', 'feature_90', 'feature_146', 'feature_100', 'feature_6', 'feature_89', 'feature_87', 'feature_112', 'feature_145', 'feature_23', 'feature_40', 'feature_50', 'feature_129', 'feature_139', 'feature_11', 'feature_29', 'feature_66', 'feature_88', 'feature_45', 'feature_79', 'feature_133', 'feature_105', 'feature_121', 'feature_114', 'feature_94', 'feature_113', 'feature_134', 'feature_101', 'feature_48', 'feature_38', 'feature_53', 'feature_86', 'feature_43', 'feature_95', 'feature_13', 'feature_62', 'feature_46', 'feature_2', 'feature_125', 'feature_138', 'feature_131', 'feature_12', 'feature_96', 'feature_108', 'feature_135', 'feature_49', 'feature_26']\n",
      "Skip features_selection because no parameters were generated.\n",
      "* Step hill_climbing_1 will try to check up to 3 models\n",
      "5_DecisionTree logloss 0.445647 trained in 2.83 seconds\n",
      "6_DecisionTree logloss 0.458631 trained in 63.77 seconds\n",
      "7_DecisionTree logloss 0.5463 trained in 2.95 seconds\n",
      "* Step hill_climbing_2 will try to check up to 4 models\n",
      "8_DecisionTree logloss 0.448618 trained in 2.91 seconds\n",
      "9_DecisionTree logloss 0.45224 trained in 51.87 seconds\n",
      "10_DecisionTree logloss 0.484987 trained in 45.23 seconds\n",
      "11_DecisionTree logloss 0.460658 trained in 3.41 seconds\n",
      "* Step boost_on_errors will try to check up to 1 model\n",
      "4_Linear_KMeansFeatures_BoostOnErrors logloss 0.406829 trained in 44.67 seconds\n",
      "* Step ensemble will try to check up to 1 model\n",
      "Ensemble logloss 0.383679 trained in 1.09 seconds\n",
      "Skip stack because no parameters were generated.\n",
      "Skip ensemble_stacked because no parameters were generated.\n",
      "AutoML fit time: 2404.17 seconds\n",
      "AutoML best model: Ensemble\n"
     ]
    },
    {
     "data": {
      "text/html": [
       "<style>#sk-container-id-1 {color: black;background-color: white;}#sk-container-id-1 pre{padding: 0;}#sk-container-id-1 div.sk-toggleable {background-color: white;}#sk-container-id-1 label.sk-toggleable__label {cursor: pointer;display: block;width: 100%;margin-bottom: 0;padding: 0.3em;box-sizing: border-box;text-align: center;}#sk-container-id-1 label.sk-toggleable__label-arrow:before {content: \"▸\";float: left;margin-right: 0.25em;color: #696969;}#sk-container-id-1 label.sk-toggleable__label-arrow:hover:before {color: black;}#sk-container-id-1 div.sk-estimator:hover label.sk-toggleable__label-arrow:before {color: black;}#sk-container-id-1 div.sk-toggleable__content {max-height: 0;max-width: 0;overflow: hidden;text-align: left;background-color: #f0f8ff;}#sk-container-id-1 div.sk-toggleable__content pre {margin: 0.2em;color: black;border-radius: 0.25em;background-color: #f0f8ff;}#sk-container-id-1 input.sk-toggleable__control:checked~div.sk-toggleable__content {max-height: 200px;max-width: 100%;overflow: auto;}#sk-container-id-1 input.sk-toggleable__control:checked~label.sk-toggleable__label-arrow:before {content: \"▾\";}#sk-container-id-1 div.sk-estimator input.sk-toggleable__control:checked~label.sk-toggleable__label {background-color: #d4ebff;}#sk-container-id-1 div.sk-label input.sk-toggleable__control:checked~label.sk-toggleable__label {background-color: #d4ebff;}#sk-container-id-1 input.sk-hidden--visually {border: 0;clip: rect(1px 1px 1px 1px);clip: rect(1px, 1px, 1px, 1px);height: 1px;margin: -1px;overflow: hidden;padding: 0;position: absolute;width: 1px;}#sk-container-id-1 div.sk-estimator {font-family: monospace;background-color: #f0f8ff;border: 1px dotted black;border-radius: 0.25em;box-sizing: border-box;margin-bottom: 0.5em;}#sk-container-id-1 div.sk-estimator:hover {background-color: #d4ebff;}#sk-container-id-1 div.sk-parallel-item::after {content: \"\";width: 100%;border-bottom: 1px solid gray;flex-grow: 1;}#sk-container-id-1 div.sk-label:hover label.sk-toggleable__label {background-color: #d4ebff;}#sk-container-id-1 div.sk-serial::before {content: \"\";position: absolute;border-left: 1px solid gray;box-sizing: border-box;top: 0;bottom: 0;left: 50%;z-index: 0;}#sk-container-id-1 div.sk-serial {display: flex;flex-direction: column;align-items: center;background-color: white;padding-right: 0.2em;padding-left: 0.2em;position: relative;}#sk-container-id-1 div.sk-item {position: relative;z-index: 1;}#sk-container-id-1 div.sk-parallel {display: flex;align-items: stretch;justify-content: center;background-color: white;position: relative;}#sk-container-id-1 div.sk-item::before, #sk-container-id-1 div.sk-parallel-item::before {content: \"\";position: absolute;border-left: 1px solid gray;box-sizing: border-box;top: 0;bottom: 0;left: 50%;z-index: -1;}#sk-container-id-1 div.sk-parallel-item {display: flex;flex-direction: column;z-index: 1;position: relative;background-color: white;}#sk-container-id-1 div.sk-parallel-item:first-child::after {align-self: flex-end;width: 50%;}#sk-container-id-1 div.sk-parallel-item:last-child::after {align-self: flex-start;width: 50%;}#sk-container-id-1 div.sk-parallel-item:only-child::after {width: 0;}#sk-container-id-1 div.sk-dashed-wrapped {border: 1px dashed gray;margin: 0 0.4em 0.5em 0.4em;box-sizing: border-box;padding-bottom: 0.4em;background-color: white;}#sk-container-id-1 div.sk-label label {font-family: monospace;font-weight: bold;display: inline-block;line-height: 1.2em;}#sk-container-id-1 div.sk-label-container {text-align: center;}#sk-container-id-1 div.sk-container {/* jupyter's `normalize.less` sets `[hidden] { display: none; }` but bootstrap.min.css set `[hidden] { display: none !important; }` so we also need the `!important` here to be able to override the default hidden behavior on the sphinx rendered scikit-learn.org. See: https://github.com/scikit-learn/scikit-learn/issues/21755 */display: inline-block !important;position: relative;}#sk-container-id-1 div.sk-text-repr-fallback {display: none;}</style><div id=\"sk-container-id-1\" class=\"sk-top-container\"><div class=\"sk-text-repr-fallback\"><pre>AutoML(mode=&#x27;Compete&#x27;)</pre><b>In a Jupyter environment, please rerun this cell to show the HTML representation or trust the notebook. <br />On GitHub, the HTML representation is unable to render, please try loading this page with nbviewer.org.</b></div><div class=\"sk-container\" hidden><div class=\"sk-item\"><div class=\"sk-estimator sk-toggleable\"><input class=\"sk-toggleable__control sk-hidden--visually\" id=\"sk-estimator-id-1\" type=\"checkbox\" checked><label for=\"sk-estimator-id-1\" class=\"sk-toggleable__label sk-toggleable__label-arrow\">AutoML</label><div class=\"sk-toggleable__content\"><pre>AutoML(mode=&#x27;Compete&#x27;)</pre></div></div></div></div></div>"
      ],
      "text/plain": [
       "AutoML(mode='Compete')"
      ]
     },
     "execution_count": 6,
     "metadata": {},
     "output_type": "execute_result"
    }
   ],
   "source": [
    "from supervised.automl import AutoML\n",
    "automl = AutoML(mode=\"Compete\")\n",
    "automl.fit(x_train, y_train)"
   ]
  },
  {
   "cell_type": "code",
   "execution_count": 7,
   "metadata": {},
   "outputs": [
    {
     "name": "stdout",
     "output_type": "stream",
     "text": [
      "   prediction_0  prediction_1  label\n",
      "0      0.910615      0.089385      0\n",
      "1      0.128583      0.871417      1\n",
      "2      0.850241      0.149759      0\n",
      "3      0.126760      0.873240      1\n",
      "4      0.131979      0.868021      1\n",
      "Test accuracy: 0.8817733990147784\n"
     ]
    }
   ],
   "source": [
    "# compute the accuracy on test data\n",
    "from sklearn.metrics import accuracy_score\n",
    "predictions = automl.predict_all(x_test)\n",
    "print(predictions.head())\n",
    "print(\"Test accuracy:\", accuracy_score(y_test, predictions[\"label\"].astype(int)))"
   ]
  },
  {
   "cell_type": "code",
   "execution_count": 8,
   "metadata": {},
   "outputs": [
    {
     "name": "stdout",
     "output_type": "stream",
     "text": [
      "0.9353274789608489\n",
      "0.938338844582766\n"
     ]
    },
    {
     "data": {
      "image/png": "[encoded data removed]",
      "text/plain": [
       "<Figure size 432x288 with 1 Axes>"
      ]
     },
     "metadata": {
      "needs_background": "light"
     },
     "output_type": "display_data"
    }
   ],
   "source": [
    "y_pred1 = automl.predict_all(x_train) \n",
    "y_pred2 = automl.predict_all(x_test)\n",
    "from sklearn.metrics import roc_curve, roc_auc_score\n",
    "fpr1, tpr1, threshold1 = roc_curve(y_train, automl.predict_proba(x_train)[:, 1])\n",
    "fpr2, tpr2, threshold2 = roc_curve(y_test, automl.predict_proba(x_test)[:, 1])\n",
    "%matplotlib inline\n",
    "import matplotlib.pyplot as plt\n",
    "plt.plot(fpr1, tpr1, label=\"ROC Curve of train for mljar\")\n",
    "plt.plot(fpr2, tpr2, label=\"ROC Curve of test formljar\")\n",
    "auc1 = roc_auc_score(y_train, automl.predict_proba(x_train)[:, 1])\n",
    "auc2 = roc_auc_score(y_test, automl.predict_proba(x_test)[:, 1])\n",
    "print (auc1)\n",
    "print (auc2)"
   ]
  },
  {
   "cell_type": "code",
   "execution_count": null,
   "metadata": {},
   "outputs": [],
   "source": []
  },
  {
   "cell_type": "code",
   "execution_count": null,
   "metadata": {},
   "outputs": [],
   "source": []
  },
  {
   "cell_type": "code",
   "execution_count": null,
   "metadata": {},
   "outputs": [],
   "source": []
  },
  {
   "cell_type": "code",
   "execution_count": null,
   "metadata": {},
   "outputs": [],
   "source": []
  },
  {
   "cell_type": "code",
   "execution_count": null,
   "metadata": {},
   "outputs": [],
   "source": []
  }
 ],
 "metadata": {
  "kernelspec": {
   "display_name": "AutoML ",
   "language": "python",
   "name": "automl"
  },
  "language_info": {
   "codemirror_mode": {
    "name": "ipython",
    "version": 3
   },
   "file_extension": ".py",
   "mimetype": "text/x-python",
   "name": "python",
   "nbconvert_exporter": "python",
   "pygments_lexer": "ipython3",
   "version": "3.8.13"
  }
 },
 "nbformat": 4,
 "nbformat_minor": 4
}
