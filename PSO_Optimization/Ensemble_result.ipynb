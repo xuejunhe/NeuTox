{
 "cells": [
  {
   "cell_type": "code",
   "execution_count": 4,
   "metadata": {},
   "outputs": [],
   "source": [
    "# Import libraries\n",
    "from utils import printPerformance\n",
    "import pandas as pd\n",
    "import numpy as np\n",
    "import os\n"
   ]
  },
  {
   "cell_type": "code",
   "execution_count": 5,
   "metadata": {},
   "outputs": [],
   "source": [
    "baseline_clf = ['lgb_mf1024', 'xgb_mol2vec', 'et_rd', 'catboost_padel', 'top4ensemble']\n",
    "metric = ['AUC-ROC', 'AUC-PR', 'ACC', 'BA', 'SN/RE', 'SP', 'PR', 'MCC', 'F1', 'CK']\n",
    "empydf = pd.DataFrame(metric)"
   ]
  },
  {
   "cell_type": "code",
   "execution_count": 6,
   "metadata": {},
   "outputs": [],
   "source": [
    "for clf in baseline_clf:\n",
    "    probs  = np.array(pd.read_csv(\"singlerun/pred/top4/y_prob_test_{}_seed0.csv\".format(clf))[\"predicted_prob\"])\n",
    "    labels = pd.read_csv('label_test.csv')\n",
    "    result = pd.DataFrame(list(printPerformance(labels, probs, decimal=4)))\n",
    "    empydf = pd.concat([empydf, result], axis=1)"
   ]
  },
  {
   "cell_type": "code",
   "execution_count": 7,
   "metadata": {},
   "outputs": [],
   "source": [
    "output_path = \"singlerun\"\n",
    "if os.path.isdir(output_path) is False:\n",
    "        os.makedirs(output_path)\n",
    "\n",
    "empydf.columns = ['metrics'] + baseline_clf\n",
    "empydf.to_csv(\"combined_result.csv\", index=False)   "
   ]
  },
  {
   "cell_type": "code",
   "execution_count": null,
   "metadata": {},
   "outputs": [],
   "source": []
  }
 ],
 "metadata": {
  "kernelspec": {
   "display_name": "Python [conda env:anaconda3-pycaret]",
   "language": "python",
   "name": "conda-env-anaconda3-pycaret-py"
  },
  "language_info": {
   "codemirror_mode": {
    "name": "ipython",
    "version": 3
   },
   "file_extension": ".py",
   "mimetype": "text/x-python",
   "name": "python",
   "nbconvert_exporter": "python",
   "pygments_lexer": "ipython3",
   "version": "3.6.13"
  }
 },
 "nbformat": 4,
 "nbformat_minor": 4
}
